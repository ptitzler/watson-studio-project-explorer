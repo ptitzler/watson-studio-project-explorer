{
 "cells": [
  {
   "cell_type": "markdown",
   "metadata": {},
   "source": [
    "### IBM Watson Studio project browser\n",
    "\n",
    "This notebook illustrates how to use the IBM Watson Studio browser app in a Python notebook. For more information about the app refer to https://github.com/ptitzler/watson-studio-project-explorer."
   ]
  },
  {
   "cell_type": "code",
   "execution_count": null,
   "metadata": {
    "scrolled": true
   },
   "outputs": [],
   "source": [
    "# to install the app (it's not published on PyPi because it's a demo) run\n",
    "!pip install --upgrade git+https://github.com/ptitzler/watson-studio-project-explorer.git#egg=wspe\n",
    "#! pip install -e /Users/patti/test/watson-studio/watson-studio-project-explorer    \n",
    "# to uninstall run\n",
    "# ! pip uninstall -y wspe"
   ]
  },
  {
   "cell_type": "markdown",
   "metadata": {},
   "source": [
    "### Configure IBM Watson Studio connectivity\n",
    "\n",
    "Configure the [IBM Cloud user api key](https://console.bluemix.net/docs/iam/userid_keys.html#userapikey)that the app will use to connect and retrieve information about projects."
   ]
  },
  {
   "cell_type": "code",
   "execution_count": null,
   "metadata": {
    "collapsed": true
   },
   "outputs": [],
   "source": [
    "# define\n",
    "ibm_cloud_user_api_key = None"
   ]
  },
  {
   "cell_type": "markdown",
   "metadata": {},
   "source": [
    "### Load and display project information\n",
    "\n",
    "Run the next cell to launch the project browser. \n",
    "\n",
    "Wtason Studio projects currently support two storage types: Object Storage Swift (deprecated) and Cloud Object Storage. You can filter projects by storage type to identify potentially obsolete projects."
   ]
  },
  {
   "cell_type": "code",
   "execution_count": null,
   "metadata": {
    "pixiedust": {
     "displayParams": {}
    }
   },
   "outputs": [],
   "source": [
    "from wstudio.browser import Browser\n",
    "b = Browser(ibm_cloud_user_api_key=ibm_cloud_user_api_key)"
   ]
  },
  {
   "cell_type": "markdown",
   "metadata": {},
   "source": [
    "#### Optional: review the collected data\n",
    "\n",
    "The browser fetches information about Watson Studio projects the provided API key has access to and stores it in a Pandas DataFrame. You can access the DataFrame by calling the browser's  `getPandasDataFrame()` method."
   ]
  },
  {
   "cell_type": "code",
   "execution_count": null,
   "metadata": {
    "pixiedust": {
     "displayParams": {
      "handlerId": "tableView"
     }
    }
   },
   "outputs": [],
   "source": [
    "import pixiedust\n",
    "display(b.getPandasDataFrame())"
   ]
  }
 ],
 "metadata": {
  "anaconda-cloud": {},
  "kernelspec": {
   "display_name": "Python 3",
   "language": "python",
   "name": "python3"
  },
  "language_info": {
   "codemirror_mode": {
    "name": "ipython",
    "version": 3
   },
   "file_extension": ".py",
   "mimetype": "text/x-python",
   "name": "python",
   "nbconvert_exporter": "python",
   "pygments_lexer": "ipython3",
   "version": "3.6.3"
  }
 },
 "nbformat": 4,
 "nbformat_minor": 1
}
